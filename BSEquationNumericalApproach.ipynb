{
 "cells": [
  {
   "cell_type": "markdown",
   "metadata": {},
   "source": [
    "# Численное решение уравнения Блэка-Шоулза для европейского call-опциона"
   ]
  },
  {
   "cell_type": "code",
   "execution_count": 2,
   "metadata": {},
   "outputs": [],
   "source": [
    "import numpy as np"
   ]
  },
  {
   "cell_type": "markdown",
   "metadata": {},
   "source": [
    "## Параметры модели"
   ]
  },
  {
   "cell_type": "code",
   "execution_count": 3,
   "metadata": {},
   "outputs": [],
   "source": [
    "#Цена акции в момент t = 0\n",
    "#S = 42\n",
    "\n",
    "#Цена исполнения -  страйк\n",
    "K = 250\n",
    "\n",
    "#безрисковая процентная ставка\n",
    "r = 0.10\n",
    "\n",
    "#волатильность\n",
    "sg = 0.4\n",
    "\n",
    "#Период\n",
    "T = 0.25\n",
    "\n",
    "#Параметр Smax\n",
    "S_max = 3 * K"
   ]
  },
  {
   "cell_type": "markdown",
   "metadata": {},
   "source": [
    "## Граничные условия"
   ]
  },
  {
   "cell_type": "code",
   "execution_count": 4,
   "metadata": {},
   "outputs": [],
   "source": [
    "def l_cond(t):\n",
    "    return 0\n",
    "\n",
    "def r_cond(t):\n",
    "    return S_max - K * np.exp(-r * (T - t)) "
   ]
  },
  {
   "cell_type": "markdown",
   "metadata": {},
   "source": [
    "## Начальное условие (t = T)"
   ]
  },
  {
   "cell_type": "code",
   "execution_count": 5,
   "metadata": {},
   "outputs": [],
   "source": [
    "def init_cond(x):\n",
    "    return max(0, x - K)"
   ]
  },
  {
   "cell_type": "markdown",
   "metadata": {},
   "source": [
    "## Численное решение"
   ]
  },
  {
   "cell_type": "markdown",
   "metadata": {},
   "source": [
    "### Параметры"
   ]
  },
  {
   "cell_type": "code",
   "execution_count": 24,
   "metadata": {},
   "outputs": [],
   "source": [
    "#параметры сетки\n",
    "n = 100\n",
    "m = 1000\n",
    "\n",
    "h = S_max / n\n",
    "tau = T / m"
   ]
  },
  {
   "cell_type": "markdown",
   "metadata": {},
   "source": [
    "### Условие устойчивости"
   ]
  },
  {
   "cell_type": "code",
   "execution_count": 25,
   "metadata": {},
   "outputs": [
    {
     "name": "stdout",
     "output_type": "stream",
     "text": [
      "OK\n"
     ]
    }
   ],
   "source": [
    "alpha_1 = 1 - sg**2 * tau * S_max**2 / h**2\n",
    "alpha_2 = r * tau * S_max / (2 * h)\n",
    "\n",
    "if ((1 - alpha_1) >= 0 and (alpha_2 + alpha_1 / 2) >= 0 and (alpha_1 / 2 - alpha_2) >= 0):\n",
    "    print(\"OK\")\n",
    "else: \n",
    "    print(\"Wrong condition\")"
   ]
  },
  {
   "cell_type": "markdown",
   "metadata": {},
   "source": [
    "### Итерации"
   ]
  },
  {
   "cell_type": "code",
   "execution_count": 26,
   "metadata": {},
   "outputs": [
    {
     "name": "stdout",
     "output_type": "stream",
     "text": [
      "layer:  999\n",
      "0.0  { 0 }:  0.0\n",
      "7.5  { 1 }:  4.6982178573449353e-23\n",
      "15.0  { 2 }:  3.6331778614255035e-20\n",
      "22.5  { 3 }:  8.292689569208227e-18\n",
      "30.0  { 4 }:  8.720198106714466e-16\n",
      "37.5  { 5 }:  5.149688448403108e-14\n",
      "45.0  { 6 }:  1.9138965902780427e-12\n",
      "52.5  { 7 }:  4.8243218581275917e-11\n",
      "60.0  { 8 }:  8.701630667648999e-10\n",
      "67.5  { 9 }:  1.1698711410099508e-08\n",
      "75.0  { 10 }:  1.2112204410591492e-07\n",
      "82.5  { 11 }:  9.922937592131496e-07\n",
      "90.0  { 12 }:  6.5841184844955565e-06\n",
      "97.5  { 13 }:  3.6114517495851225e-05\n",
      "105.0  { 14 }:  0.00016678173915330905\n",
      "112.5  { 15 }:  0.0006593382500785\n",
      "120.0  { 16 }:  0.0022653911788254708\n",
      "127.5  { 17 }:  0.00685929066347508\n",
      "135.0  { 18 }:  0.018536674115215326\n",
      "142.5  { 19 }:  0.045231176313825484\n",
      "150.0  { 20 }:  0.10071203754453104\n",
      "157.5  { 21 }:  0.20659423069449134\n",
      "165.0  { 22 }:  0.3938239362132863\n",
      "172.5  { 23 }:  0.703092878863965\n",
      "180.0  { 24 }:  1.1838166627760554\n",
      "187.5  { 25 }:  1.8916310551383602\n",
      "195.0  { 26 }:  2.8847060808558194\n",
      "202.5  { 27 }:  4.2194383244388955\n",
      "210.0  { 28 }:  5.946187936928475\n",
      "217.5  { 29 }:  8.105670319141067\n",
      "225.0  { 30 }:  10.726435064762285\n",
      "232.5  { 31 }:  13.823632164828137\n",
      "240.0  { 32 }:  17.39904106135237\n",
      "247.5  { 33 }:  21.442166031414917\n",
      "255.0  { 34 }:  25.932101102409405\n",
      "262.5  { 35 }:  30.83983754077564\n",
      "270.0  { 36 }:  36.13071170320545\n",
      "277.5  { 37 }:  41.766750079788835\n",
      "285.0  { 38 }:  47.708741907292854\n",
      "292.5  { 39 }:  53.917942394174275\n",
      "300.0  { 40 }:  60.35737157603629\n",
      "307.5  { 41 }:  66.99272048875588\n",
      "315.0  { 42 }:  73.79290702764865\n",
      "322.5  { 43 }:  80.73034037746096\n",
      "330.0  { 44 }:  87.78095829933613\n",
      "337.5  { 45 }:  94.92409918193427\n",
      "345.0  { 46 }:  102.14226363631917\n",
      "352.5  { 47 }:  109.42081097598313\n",
      "360.0  { 48 }:  116.74762594000187\n",
      "367.5  { 49 }:  124.11278163302545\n",
      "375.0  { 50 }:  131.508216508067\n",
      "382.5  { 51 }:  138.92743657006363\n",
      "390.0  { 52 }:  146.36524884239955\n",
      "397.5  { 53 }:  153.81752837809404\n",
      "405.0  { 54 }:  161.28101850163756\n",
      "412.5  { 55 }:  168.75316230403288\n",
      "420.0  { 56 }:  176.23196246010897\n",
      "427.5  { 57 }:  183.71586599857204\n",
      "435.0  { 58 }:  191.203670570737\n",
      "442.5  { 59 }:  198.6944489075014\n",
      "450.0  { 60 }:  206.18748843151158\n",
      "457.5  { 61 }:  213.68224333510358\n",
      "465.0  { 62 }:  221.17829679840364\n",
      "472.5  { 63 }:  228.67533137636488\n",
      "480.0  { 64 }:  236.1731059110419\n",
      "487.5  { 65 }:  243.6714376171453\n",
      "495.0  { 66 }:  251.17018824175418\n",
      "502.5  { 67 }:  258.6692534135281\n",
      "510.0  { 68 }:  266.1685544755547\n",
      "517.5  { 69 }:  273.66803224292545\n",
      "525.0  { 70 }:  281.1676422454661\n",
      "532.5  { 71 }:  288.6673511119748\n",
      "540.0  { 72 }:  296.16713382873826\n",
      "547.5  { 73 }:  303.66697166552234\n",
      "555.0  { 74 }:  311.1668506096717\n",
      "562.5  { 75 }:  318.6667601859936\n",
      "570.0  { 76 }:  326.1666925688483\n",
      "577.5  { 77 }:  333.6666419150931\n",
      "585.0  { 78 }:  341.16660386362514\n",
      "592.5  { 79 }:  348.66657516036946\n",
      "600.0  { 80 }:  356.1665533775805\n",
      "607.5  { 81 }:  363.66653670394294\n",
      "615.0  { 82 }:  371.1665237877543\n",
      "622.5  { 83 }:  378.66651361985805\n",
      "630.0  { 84 }:  386.16650544631386\n",
      "637.5  { 85 }:  393.6664987032896\n",
      "645.0  { 86 }:  401.1664929685486\n",
      "652.5  { 87 }:  408.66648792532106\n",
      "660.0  { 88 }:  416.1664833354057\n",
      "667.5  { 89 }:  423.6664790191535\n",
      "675.0  { 90 }:  431.1664748405722\n",
      "682.5  { 91 }:  438.6664706962468\n",
      "690.0  { 92 }:  446.16646650709293\n",
      "697.5  { 93 }:  453.66646221222055\n",
      "705.0  { 94 }:  461.1664577643617\n",
      "712.5  { 95 }:  468.66645312645744\n",
      "720.0  { 96 }:  476.1664482691059\n",
      "727.5  { 97 }:  483.6664431686427\n",
      "735.0  { 98 }:  491.1664378056878\n",
      "742.5  { 99 }:  498.6664321640322\n",
      "750.0  { 100 }:  506.16642622976997\n"
     ]
    }
   ],
   "source": [
    "#значения s_i\n",
    "s_vals = []\n",
    "\n",
    "#списки коэффициентов\n",
    "a = [] #i-1\n",
    "b = [] #i\n",
    "c = [] #i+1\n",
    "\n",
    "#значения на текущем и предыдущем слоях\n",
    "v_prev = []\n",
    "v_curr = []\n",
    "\n",
    "#функция для вычисления значений на слое\n",
    "def calc_layer(v_prev, a, b, c, layer):    \n",
    "    vals = np.zeros(len(v_prev))\n",
    "    for i in range(1, len(v_prev) - 1):\n",
    "        vals[i] = a[i] * v_prev[i-1] + b[i] * v_prev[i] + c[i] * v_prev[i+1]\n",
    "    vals[-1] = r_cond(T - layer * tau)\n",
    "    return vals\n",
    "\n",
    "#начальное заполнение\n",
    "for s_i in np.arange(0, S_max + 1, h):\n",
    "    \n",
    "    s_vals.append(s_i)\n",
    "    \n",
    "    #значения цены\n",
    "    v_prev.append(init_cond(s_i))\n",
    "    \n",
    "    #коэффициенты - зависят только от s_i и параметров модели (констант)\n",
    "    a.append(sg**2 * tau * s_i**2 / (2 * h**2) - r * tau * s_i / (2 * h))\n",
    "    b.append(1 - r*tau - sg**2 * tau * s_i**2 / h**2)\n",
    "    c.append(sg**2 * tau * s_i**2 / (2 * h**2) + r * tau * s_i / (2 * h))\n",
    "\n",
    "    \n",
    "for layer in range(1, m):\n",
    "    v_curr = calc_layer(v_prev, a, b, c, layer)\n",
    "    v_prev = v_curr\n",
    "    \n",
    "#вывод\n",
    "print(\"layer: \", layer)\n",
    "for i in range(len(s_vals)): \n",
    "    print(s_vals[i], \" {\", i, \"}: \", v_curr[i])"
   ]
  },
  {
   "cell_type": "code",
   "execution_count": 27,
   "metadata": {},
   "outputs": [
    {
     "data": {
      "text/plain": [
       "60.35737157603629"
      ]
     },
     "execution_count": 27,
     "metadata": {},
     "output_type": "execute_result"
    }
   ],
   "source": [
    "map_of_vals = dict(zip(s_vals, v_curr))\n",
    "map_of_vals[300]"
   ]
  },
  {
   "cell_type": "markdown",
   "metadata": {},
   "source": [
    "## График"
   ]
  },
  {
   "cell_type": "code",
   "execution_count": 10,
   "metadata": {},
   "outputs": [],
   "source": [
    "import matplotlib.pyplot as plt"
   ]
  },
  {
   "cell_type": "code",
   "execution_count": 43,
   "metadata": {},
   "outputs": [
    {
     "data": {
      "text/plain": [
       "<matplotlib.legend.Legend at 0xc79ada0>"
      ]
     },
     "execution_count": 43,
     "metadata": {},
     "output_type": "execute_result"
    },
    {
     "data": {
      "image/png": "[encoded data removed]",
      "text/plain": [
       "<Figure size 432x288 with 1 Axes>"
      ]
     },
     "metadata": {
      "needs_background": "light"
     },
     "output_type": "display_data"
    }
   ],
   "source": [
    "fig = plt.figure()\n",
    "plt.plot(s_vals, v_curr)\n",
    "fig.suptitle('Call Option price', fontsize=20)\n",
    "plt.xlabel('S', fontsize=18)\n",
    "plt.ylabel('C', fontsize=16)\n",
    "plt.scatter(300, map_of_vals[300], s = 100, label = 'numerical value')\n",
    "plt.scatter(300, c, color='r', label = 'B-S model value')\n",
    "plt.text(350, map_of_vals[300], map_of_vals[300])\n",
    "plt.legend()"
   ]
  },
  {
   "cell_type": "markdown",
   "metadata": {},
   "source": [
    "## Погрешность вычислений"
   ]
  },
  {
   "cell_type": "code",
   "execution_count": 30,
   "metadata": {},
   "outputs": [],
   "source": [
    "#Black-Scholes Model\n",
    "\n",
    "def NSR(xn):\n",
    "    eps = 0.00000000001\n",
    "    xn = xn / np.sqrt(2.0)\n",
    "    mlt = 1.0\n",
    "    sum1 = xn\n",
    "    n = 0\n",
    "    \n",
    "    while True:\n",
    "        n = n + 1\n",
    "        mlt = mlt * (-xn * xn / n)\n",
    "        pt = (xn / (2 * n + 1)) * mlt\n",
    "        sum1 = sum1 + pt\n",
    "        if (np.abs(pt) < eps):\n",
    "            #print((0.5 * (1 + sum1)))\n",
    "            break\n",
    "    sum1 = 2.0 / (np.sqrt(np.pi)) * sum1\n",
    "    return (0.5 * (1 + sum1))"
   ]
  },
  {
   "cell_type": "code",
   "execution_count": 31,
   "metadata": {},
   "outputs": [
    {
     "data": {
      "text/plain": [
       "60.36023991360105"
      ]
     },
     "execution_count": 31,
     "metadata": {},
     "output_type": "execute_result"
    }
   ],
   "source": [
    "#Call\n",
    "\n",
    "S = 300\n",
    "\n",
    "d1 = (np.log(S / K) + (r + sg*sg / 2.0)*T) / (sg * np.sqrt(T))\n",
    "d2 = d1 - sg*np.sqrt(T)\n",
    "c = S * NSR(d1) - K*np.exp(-r*T)*NSR(d2)\n",
    "c"
   ]
  },
  {
   "cell_type": "code",
   "execution_count": 32,
   "metadata": {},
   "outputs": [
    {
     "data": {
      "text/plain": [
       "0.0028683375647560183"
      ]
     },
     "execution_count": 32,
     "metadata": {},
     "output_type": "execute_result"
    }
   ],
   "source": [
    "err = abs(c - map_of_vals[300])\n",
    "err"
   ]
  }
 ],
 "metadata": {
  "kernelspec": {
   "display_name": "Python 3",
   "language": "python",
   "name": "python3"
  },
  "language_info": {
   "codemirror_mode": {
    "name": "ipython",
    "version": 3
   },
   "file_extension": ".py",
   "mimetype": "text/x-python",
   "name": "python",
   "nbconvert_exporter": "python",
   "pygments_lexer": "ipython3",
   "version": "3.7.3"
  }
 },
 "nbformat": 4,
 "nbformat_minor": 2
}
